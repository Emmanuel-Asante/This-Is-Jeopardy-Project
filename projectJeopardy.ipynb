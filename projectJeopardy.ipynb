{
 "cells": [
  {
   "cell_type": "code",
   "execution_count": 1,
   "source": [
    "import pandas as pd"
   ],
   "outputs": [],
   "metadata": {}
  },
  {
   "cell_type": "code",
   "execution_count": 2,
   "source": [
    "# Display full content of the columns names in full\r\n",
    "pd.set_option('display.max_colwidth', None)"
   ],
   "outputs": [],
   "metadata": {}
  },
  {
   "cell_type": "code",
   "execution_count": 3,
   "source": [
    "# Read jeopardy.csv file using pandas\r\n",
    "jeopardy_data = pd.read_csv('jeopardy.csv')"
   ],
   "outputs": [],
   "metadata": {}
  },
  {
   "cell_type": "code",
   "execution_count": 4,
   "source": [
    "# Inspect the columns of jeopardy_csv\r\n",
    "print(jeopardy_data.columns)"
   ],
   "outputs": [
    {
     "output_type": "stream",
     "name": "stdout",
     "text": [
      "Index(['Show Number', ' Air Date', ' Round', ' Category', ' Value',\n",
      "       ' Question', ' Answer'],\n",
      "      dtype='object')\n"
     ]
    }
   ],
   "metadata": {}
  },
  {
   "cell_type": "code",
   "execution_count": 5,
   "source": [
    "# Rename columns properly\r\n",
    "jeopardy_data = jeopardy_data.rename(\r\n",
    "    columns = {\r\n",
    "        ' Air Date' : 'Air Date',\r\n",
    "        ' Round' : 'Round',\r\n",
    "        ' Category': 'Category',\r\n",
    "        ' Value' : 'Value',\r\n",
    "        ' Question' : 'Question',\r\n",
    "        ' Answer' : 'Answer'\r\n",
    "    }\r\n",
    ")"
   ],
   "outputs": [],
   "metadata": {}
  },
  {
   "cell_type": "code",
   "execution_count": 6,
   "source": [
    "# Inspect jeopardy_data\n",
    "print(jeopardy_data.head())"
   ],
   "outputs": [
    {
     "output_type": "stream",
     "name": "stdout",
     "text": [
      "   Show Number    Air Date      Round                         Category Value  \\\n",
      "0         4680  2004-12-31  Jeopardy!                          HISTORY  $200   \n",
      "1         4680  2004-12-31  Jeopardy!  ESPN's TOP 10 ALL-TIME ATHLETES  $200   \n",
      "2         4680  2004-12-31  Jeopardy!      EVERYBODY TALKS ABOUT IT...  $200   \n",
      "3         4680  2004-12-31  Jeopardy!                 THE COMPANY LINE  $200   \n",
      "4         4680  2004-12-31  Jeopardy!              EPITAPHS & TRIBUTES  $200   \n",
      "\n",
      "                                                                                                      Question  \\\n",
      "0             For the last 8 years of his life, Galileo was under house arrest for espousing this man's theory   \n",
      "1  No. 2: 1912 Olympian; football star at Carlisle Indian School; 6 MLB seasons with the Reds, Giants & Braves   \n",
      "2                     The city of Yuma in this state has a record average of 4,055 hours of sunshine each year   \n",
      "3                         In 1963, live on \"The Art Linkletter Show\", this company served its billionth burger   \n",
      "4     Signer of the Dec. of Indep., framer of the Constitution of Mass., second President of the United States   \n",
      "\n",
      "       Answer  \n",
      "0  Copernicus  \n",
      "1  Jim Thorpe  \n",
      "2     Arizona  \n",
      "3  McDonald's  \n",
      "4  John Adams  \n"
     ]
    }
   ],
   "metadata": {}
  },
  {
   "cell_type": "code",
   "execution_count": 7,
   "source": [
    "# A function that filters the jeopardy_data for Question that contains all of the words in a list of words\n",
    "def filter_jeopardy(data, list_words):\n",
    "    # Return true for rows in data that contain the words in list_word\n",
    "    return data.loc[data['Question'].apply(lambda x: all(word.lower() in x.lower() for word in list_words))]\n",
    "\n",
    "# Testing filter_jeopardy function on jeopardy_data\n",
    "filtered = filter_jeopardy(jeopardy_data, [\"King\", \"England\"])\n",
    "\n",
    "# Examine filtered on the 'Question' column for jeopardy_data\n",
    "print(filtered['Question'])"
   ],
   "outputs": [
    {
     "output_type": "stream",
     "name": "stdout",
     "text": [
      "4953                    Both England's King George V & FDR put their stamp of approval on this \"King of Hobbies\"\n",
      "6337      In retaliation for Viking raids, this \"Unready\" king of England attacks Norse areas of the Isle of Man\n",
      "9191                    This king of England beat the odds to trounce the French in the 1415 Battle of Agincourt\n",
      "11710               This Scotsman, the first Stuart king of England, was called \"The Wisest Fool in Christendom\"\n",
      "13454                                       It's the number that followed the last king of England named William\n",
      "                                                           ...                                                  \n",
      "208295        In 1066 this great-great grandson of Rollo made what some call the last Viking invasion of England\n",
      "208742                      Dutch-born king who ruled England jointly with Mary II & is a tasty New Zealand fish\n",
      "213870                In 1781 William Herschel discovered Uranus & initially named it after this king of England\n",
      "216021          His nickname was \"Bertie\", but he used this name & number when he became king of England in 1901\n",
      "216789        This kingdom of England grew from 2 settlements, one founded around 495 by Cerdic & his son Cynric\n",
      "Name: Question, Length: 152, dtype: object\n"
     ]
    }
   ],
   "metadata": {}
  },
  {
   "cell_type": "code",
   "execution_count": 12,
   "source": [
    "# Examine the data for the 'Value' column\n",
    "print(jeopardy_data['Value'].head())"
   ],
   "outputs": [
    {
     "output_type": "stream",
     "name": "stdout",
     "text": [
      "0    $200\n",
      "1    $200\n",
      "2    $200\n",
      "3    $200\n",
      "4    $200\n",
      "Name: Value, dtype: object\n"
     ]
    }
   ],
   "metadata": {}
  },
  {
   "cell_type": "code",
   "execution_count": 19,
   "source": [
    "'''\n",
    "1. Create a new column called Float Value\n",
    "2. Assign a float data of the 'Value' column by stripping the '$' sign \n",
    "3. and replacing ',' with nothing if the data point is not None, else 0\n",
    "'''\n",
    "jeopardy_data['Float Value'] = jeopardy_data['Value'].apply(\\\n",
    "                                                            lambda x: \\\n",
    "                                                            float(x.strip('$')\\\n",
    "                                                                  .replace(',','')) if x != \"None\" else 0)"
   ],
   "outputs": [],
   "metadata": {}
  },
  {
   "cell_type": "code",
   "execution_count": 24,
   "source": [
    "# Filtering jeopardy_data and finding the average value of those questions\n",
    "filtered = filter_jeopardy(jeopardy_data, ['King'])\n",
    "print(filtered['Float Value'].mean())"
   ],
   "outputs": [
    {
     "output_type": "stream",
     "name": "stdout",
     "text": [
      "771.8833850722094\n"
     ]
    }
   ],
   "metadata": {}
  },
  {
   "cell_type": "code",
   "execution_count": 25,
   "source": [
    "# A function to find the unique answers of a set of data\n",
    "def get_answer_counts(data):\n",
    "    return data['Answer'].value_counts()\n",
    "\n",
    "# Testing the answer count function\n",
    "print(get_answer_counts(filtered))"
   ],
   "outputs": [
    {
     "output_type": "stream",
     "name": "stdout",
     "text": [
      "Henry VIII             55\n",
      "Solomon                35\n",
      "Richard III            33\n",
      "Louis XIV              31\n",
      "David                  30\n",
      "                       ..\n",
      "Whopper                 1\n",
      "the Mount of Olives     1\n",
      "\"42nd Street\"           1\n",
      "Martin                  1\n",
      "the Spanish Armada      1\n",
      "Name: Answer, Length: 5268, dtype: int64\n"
     ]
    }
   ],
   "metadata": {}
  },
  {
   "cell_type": "code",
   "execution_count": 26,
   "source": [
    "print(jeopardy_data.columns)"
   ],
   "outputs": [
    {
     "output_type": "stream",
     "name": "stdout",
     "text": [
      "Index(['Show Number', 'Air Date', 'Round', 'Category', 'Value', 'Question',\n",
      "       'Answer', 'Float Value'],\n",
      "      dtype='object')\n"
     ]
    }
   ],
   "metadata": {}
  },
  {
   "cell_type": "code",
   "execution_count": 27,
   "source": [
    "print(jeopardy_data['Air Date'].head())"
   ],
   "outputs": [
    {
     "output_type": "stream",
     "name": "stdout",
     "text": [
      "0    2004-12-31\n",
      "1    2004-12-31\n",
      "2    2004-12-31\n",
      "3    2004-12-31\n",
      "4    2004-12-31\n",
      "Name: Air Date, dtype: object\n"
     ]
    }
   ],
   "metadata": {}
  },
  {
   "cell_type": "code",
   "execution_count": 33,
   "source": [
    "#Calculating number of questions containing the word \"computer\" for each decade\n",
    "#Add a column called 'Question Year' to jeopardy_data formatted to year\n",
    "jeopardy_data['Question Year'] = jeopardy_data['Air Date'].apply(lambda x: x[:4])\n",
    "\n",
    "#Use filter_jeopardy function to filter the word 'Computer'\n",
    "computer = filter_jeopardy(jeopardy_data, ['Computer'])\n",
    "\n",
    "# Grouping computer BY 'Question Year'\n",
    "computer_by_year = computer.groupby('Question Year')['Show Number'].count().reset_index()\n",
    "\n",
    "# Select rows where 'Question Year' is in the 90s\n",
    "computer_90s = computer_by_year[(computer_by_year['Question Year'] < '2000') & (computer_by_year['Question Year'] > '1989')]\n",
    "\n",
    "# Select rows where 'Question Year' is in the 2000s\n",
    "computer_2000s = computer_by_year[(computer_by_year['Question Year'] < '2010') & (computer_by_year['Question Year'] > '1999')]\n",
    "\n",
    "# Calculate the total number of questions containing the search term by decade\n",
    "print(\"The number of questions featuring the word \\\"computer\\\" in the 1990s = \" + str(computer_90s['Show Number'].sum()) + \"\\nThe number of questions containing the word \\\"computer\\\" in the 2000s = \" + str(computer_2000s['Show Number'].sum()))"
   ],
   "outputs": [
    {
     "output_type": "stream",
     "name": "stdout",
     "text": [
      "The number of questions featuring the word \"computer\" in the 1990s = 98\n",
      "The number of questions containing the word \"computer\" in the 2000s = 268\n"
     ]
    }
   ],
   "metadata": {}
  },
  {
   "cell_type": "code",
   "execution_count": 36,
   "source": [
    "# Display number of instances of Category occuring in particular Round\n",
    "category_round = jeopardy_data.groupby(['Category', 'Round'])['Show Number'].count().reset_index()\n",
    "\n",
    "# Plot in a pivot table to increase readability\n",
    "category_round_pivot = category_round.pivot(columns = 'Round', index = 'Category', values = 'Show Number').reset_index()\n",
    "\n",
    "# Rename columns\n",
    "#category_round_pivot.columns = ['category', 'double', 'final', 'single']\n",
    "\n",
    "# Display resulting pivot table\n",
    "print(category_round_pivot)\n",
    "\n",
    "# To find data on specific category\n",
    "literature = category_round_pivot[(category_round_pivot.Category == 'LITERATURE')]\n",
    "print(literature)"
   ],
   "outputs": [
    {
     "output_type": "stream",
     "name": "stdout",
     "text": [
      "Round                     Category  Double Jeopardy!  Final Jeopardy!  \\\n",
      "0       A JIM CARREY FILM FESTIVAL               NaN              NaN   \n",
      "1                              \"!\"               NaN              NaN   \n",
      "2                          \"-ARES\"               5.0              NaN   \n",
      "3              \"-ICIAN\" EXPEDITION               NaN              NaN   \n",
      "4                    \"...OD\" WORDS               5.0              NaN   \n",
      "...                            ...               ...              ...   \n",
      "27990                   “R” MOVIES               5.0              NaN   \n",
      "27991                     “SAINTS”               4.0              NaN   \n",
      "27992                      “SOUTH”               5.0              NaN   \n",
      "27993                    “STREETS”               NaN              NaN   \n",
      "27994                “WH”AT IS IT?               5.0              NaN   \n",
      "\n",
      "Round  Jeopardy!  Tiebreaker  \n",
      "0            5.0         NaN  \n",
      "1            5.0         NaN  \n",
      "2            NaN         NaN  \n",
      "3            5.0         NaN  \n",
      "4            NaN         NaN  \n",
      "...          ...         ...  \n",
      "27990        NaN         NaN  \n",
      "27991        NaN         NaN  \n",
      "27992        NaN         NaN  \n",
      "27993        5.0         NaN  \n",
      "27994        NaN         NaN  \n",
      "\n",
      "[27995 rows x 5 columns]\n",
      "Round    Category  Double Jeopardy!  Final Jeopardy!  Jeopardy!  Tiebreaker\n",
      "14483  LITERATURE             381.0             10.0      105.0         NaN\n"
     ]
    }
   ],
   "metadata": {}
  },
  {
   "cell_type": "code",
   "execution_count": null,
   "source": [],
   "outputs": [],
   "metadata": {}
  }
 ],
 "metadata": {
  "kernelspec": {
   "display_name": "Python 3",
   "language": "python",
   "name": "python3"
  },
  "language_info": {
   "codemirror_mode": {
    "name": "ipython",
    "version": 3
   },
   "file_extension": ".py",
   "mimetype": "text/x-python",
   "name": "python",
   "nbconvert_exporter": "python",
   "pygments_lexer": "ipython3",
   "version": "3.8.8"
  }
 },
 "nbformat": 4,
 "nbformat_minor": 5
}